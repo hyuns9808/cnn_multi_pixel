{
 "cells": [
  {
   "cell_type": "markdown",
   "id": "c5b5fae9",
   "metadata": {},
   "source": [
    "### EDA(Exploratory Data Analysis) of Functions\n",
    "Function tester"
   ]
  },
  {
   "cell_type": "code",
   "execution_count": null,
   "id": "40d74f43",
   "metadata": {},
   "outputs": [],
   "source": [
    "# 1) Hyperparameter settings\n",
    "# Check \"hyperparams.py\" file to change settings \n",
    "# ADC hyperparameters\n",
    "from src.cnn_multi_pixel.hyperparams import adc_num, adc_bitwidth, train_batch, split_digital, normalized_digital\n",
    "# Directory hyperparameters\n",
    "from src.cnn_multi_pixel.hyperparams import sub_folder, sub_folder_name, train_trace_folder_names, test_trace_folder_names, trace_type, file_pattern"
   ]
  },
  {
   "cell_type": "code",
   "execution_count": 2,
   "id": "0a54fdc3",
   "metadata": {},
   "outputs": [
    {
     "name": "stdout",
     "output_type": "stream",
     "text": [
      "5\n",
      "8\n",
      "512\n",
      "True\n",
      "True\n"
     ]
    }
   ],
   "source": [
    "print(adc_num)\n",
    "print(adc_bitwidth)\n",
    "print(train_batch)\n",
    "print(split_digital)\n",
    "print(normalized_digital)"
   ]
  },
  {
   "cell_type": "code",
   "execution_count": 3,
   "id": "3e04ad0e",
   "metadata": {},
   "outputs": [
    {
     "name": "stdout",
     "output_type": "stream",
     "text": [
      "True\n",
      "analog_5px\n",
      "['analog_5px_tt_px']\n",
      "['analog_5px_tt_pm']\n",
      "lin\n",
      "lin_s\\d+_([0-9]+\\.[0-9]+)_([0-9]+\\.[0-9]+)_([0-9]+\\.[0-9]+)_([0-9]+\\.[0-9]+)_([0-9]+\\.[0-9]+)\\.txt\n"
     ]
    }
   ],
   "source": [
    "print(sub_folder)\n",
    "print(sub_folder_name)\n",
    "print(train_trace_folder_names)\n",
    "print(test_trace_folder_names)\n",
    "print(trace_type)\n",
    "print(file_pattern)"
   ]
  },
  {
   "cell_type": "code",
   "execution_count": null,
   "id": "776734d8",
   "metadata": {},
   "outputs": [
    {
     "name": "stdout",
     "output_type": "stream",
     "text": [
      "Obtaining avg exponent value for both train/test files...\n",
      "\tHandling folder \"digital_5px_fs_p\"...\n",
      "\t\tFolder \"digital_5px_fs_p\" exponent results:\n",
      "\t\tAverage exponent: -6\n",
      "\t\tMax exponent: -3\n",
      "\t\tMinimum exponent: -8\n",
      "\tHandling folder \"analog_5px_tt_xx\"...\n",
      "\t\tFolder \"analog_5px_tt_xx\" exponent results:\n",
      "\t\tAverage exponent: -3\n",
      "\t\tMax exponent: -2\n",
      "\t\tMinimum exponent: -5\n",
      "WARNING: Resulting avg exponent value has large differences with min/max exponents\n",
      "\tResulting avg exponent: -3\n",
      "\tSmallest exponent: -8\n",
      "\tLargest exponent: -2\n",
      "-3\n"
     ]
    }
   ],
   "source": [
    "# 2) File imports\n",
    "from src.cnn_multi_pixel.preprocessing_exp import get_avg_exponent\n",
    "avg_exp = get_avg_exponent('traces', ['digital_5px_fs_p'], ['analog_5px_tt_xx'])\n",
    "print(avg_exp)"
   ]
  },
  {
   "cell_type": "code",
   "execution_count": null,
   "id": "bd502adb",
   "metadata": {},
   "outputs": [
    {
     "name": "stdout",
     "output_type": "stream",
     "text": [
      "Handling: digital_5px_fs_p...\n"
     ]
    },
    {
     "ename": "TypeError",
     "evalue": "create_norm_array() missing 1 required positional argument: 'avg_exponent'",
     "output_type": "error",
     "traceback": [
      "\u001b[31m---------------------------------------------------------------------------\u001b[39m",
      "\u001b[31mTypeError\u001b[39m                                 Traceback (most recent call last)",
      "\u001b[36mCell\u001b[39m\u001b[36m \u001b[39m\u001b[32mIn[9]\u001b[39m\u001b[32m, line 1\u001b[39m\n\u001b[32m----> \u001b[39m\u001b[32m1\u001b[39m train_traces, test_traces = \u001b[43mcreate_trace_arrays\u001b[49m\u001b[43m(\u001b[49m\u001b[33;43m'\u001b[39;49m\u001b[33;43mtraces\u001b[39;49m\u001b[33;43m'\u001b[39;49m\u001b[43m,\u001b[49m\u001b[43m \u001b[49m\u001b[43m[\u001b[49m\u001b[33;43m'\u001b[39;49m\u001b[33;43mdigital_5px_fs_p\u001b[39;49m\u001b[33;43m'\u001b[39;49m\u001b[43m]\u001b[49m\u001b[43m,\u001b[49m\u001b[43m \u001b[49m\u001b[43m[\u001b[49m\u001b[33;43m'\u001b[39;49m\u001b[33;43manalog_5px_tt_xx\u001b[39;49m\u001b[33;43m'\u001b[39;49m\u001b[43m]\u001b[49m\u001b[43m,\u001b[49m\u001b[43m \u001b[49m\u001b[43mavg_exp\u001b[49m\u001b[43m)\u001b[49m\n\u001b[32m      2\u001b[39m \u001b[38;5;28mprint\u001b[39m(train_traces)\n\u001b[32m      3\u001b[39m \u001b[38;5;28mprint\u001b[39m(test_traces)\n",
      "\u001b[36mFile \u001b[39m\u001b[32mc:\\Users\\Calvin\\Desktop\\cnn_multi_pixel\\src\\cnn_multi_pixel\\preprocessing_array.py:61\u001b[39m, in \u001b[36mcreate_trace_arrays\u001b[39m\u001b[34m(trace_root, train_folder_list, test_folder_list, avg_exponent)\u001b[39m\n\u001b[32m     59\u001b[39m             file_path = os.path.join(folder_path, file)\n\u001b[32m     60\u001b[39m             \u001b[38;5;66;03m# file_exponents = list of exponent values from given file \u001b[39;00m\n\u001b[32m---> \u001b[39m\u001b[32m61\u001b[39m             folder_traces.append(\u001b[43mcreate_norm_array\u001b[49m\u001b[43m(\u001b[49m\u001b[43mfile_path\u001b[49m\u001b[43m)\u001b[49m)\n\u001b[32m     62\u001b[39m \u001b[38;5;28;01melse\u001b[39;00m:\n\u001b[32m     63\u001b[39m     \u001b[38;5;28;01mraise\u001b[39;00m \u001b[38;5;167;01mKeyError\u001b[39;00m(\u001b[33mf\u001b[39m\u001b[33m\"\u001b[39m\u001b[33mTrace folder does not exist: \u001b[39m\u001b[38;5;132;01m{\u001b[39;00mfolder_path\u001b[38;5;132;01m}\u001b[39;00m\u001b[33m\"\u001b[39m)\n",
      "\u001b[31mTypeError\u001b[39m: create_norm_array() missing 1 required positional argument: 'avg_exponent'"
     ]
    }
   ],
   "source": [
    "from src.cnn_multi_pixel.preprocessing_array import create_trace_arrays\n",
    "train_traces, test_traces = create_trace_arrays('traces', ['digital_5px_fs_p'], ['analog_5px_tt_xx'], avg_exp)\n",
    "print(train_traces)\n",
    "print(test_traces)"
   ]
  }
 ],
 "metadata": {
  "kernelspec": {
   "display_name": "Python 3",
   "language": "python",
   "name": "python3"
  },
  "language_info": {
   "codemirror_mode": {
    "name": "ipython",
    "version": 3
   },
   "file_extension": ".py",
   "mimetype": "text/x-python",
   "name": "python",
   "nbconvert_exporter": "python",
   "pygments_lexer": "ipython3",
   "version": "3.12.10"
  }
 },
 "nbformat": 4,
 "nbformat_minor": 5
}
