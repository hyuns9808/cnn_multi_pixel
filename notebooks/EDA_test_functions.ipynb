{
 "cells": [
  {
   "cell_type": "markdown",
   "id": "c5b5fae9",
   "metadata": {},
   "source": [
    "### EDA(Exploratory Data Analysis) of Functions\n",
    "Function tester"
   ]
  },
  {
   "cell_type": "code",
   "execution_count": null,
   "id": "a2e2c83b",
   "metadata": {},
   "outputs": [],
   "source": [
    "import os\n",
    "import sys\n",
    "root_dir = os.path.dirname(os.getcwd())\n",
    "sys.path.append(root_dir)"
   ]
  },
  {
   "cell_type": "code",
   "execution_count": null,
   "id": "a010d949",
   "metadata": {},
   "outputs": [],
   "source": [
    "cwd = os.path.dirname(os.getcwd())\n",
    "from src.cnn_multi_pixel.setup.setup_directories import create_directories\n",
    "trace_root, dataset_root, dataset_raw_root, dataset_sampled_root, dataset_norm_root, cnn_settings_root = create_directories(cwd)"
   ]
  },
  {
   "cell_type": "code",
   "execution_count": null,
   "id": "b8356ca2",
   "metadata": {},
   "outputs": [],
   "source": [
    "input_example  = {\n",
    "    \"digital_5px_fs_p\" : {\n",
    "            \"file_name_pattern\"     : \"sky_raw_s(\\\\d+)_(\\\\d+)_(\\\\d+)_(\\\\d+)_(\\\\d+)_(\\\\d+)\\\\.txt$\",\n",
    "            \"file_label_function\"   : \"lambda gs: int(gs[0])\",\n",
    "            \"sample_mode\"           : [\"MIN\", \"MAX\"],\n",
    "            \"sample_interval\"       : 0.1e-6,\n",
    "            \"sample_duration\"       : 260e-6\n",
    "    },\n",
    "    \"analog_5px_tt_pm\" : {\n",
    "            \"file_name_pattern\"          : \"raw_s([^_]*)_(?:\\d+(?:.\\d+)?_){4}\\d+(?:.\\d+)?.txt$\",\n",
    "            \"file_label_function\"   : \"lambda gs: int(gs[0])\",\n",
    "            \"sample_mode\"           : [\"MIN\", \"MAX\"],\n",
    "            \"sample_interval\"       : 0.1e-6,\n",
    "            \"sample_duration\"       : 260e-6\n",
    "    },\n",
    "}"
   ]
  },
  {
   "cell_type": "code",
   "execution_count": null,
   "id": "bd502adb",
   "metadata": {},
   "outputs": [],
   "source": [
    "from src.cnn_multi_pixel.setup.setup_train_test import divide_new_saved\n",
    "\n",
    "train_folder_list = [\"digital_5px_fs_p\"]\n",
    "test_folder_list = [\"analog_5px_tt_pm\"]\n",
    "\n",
    "train_new_dict, train_saved_dict = divide_new_saved(train_folder_list, input_example, dataset_raw_root, dataset_sampled_root)\n",
    "test_new_dict, test_saved_dict = divide_new_saved(test_folder_list, input_example, dataset_sampled_root, dataset_sampled_root)"
   ]
  },
  {
   "cell_type": "code",
   "execution_count": null,
   "id": "bcba205b",
   "metadata": {},
   "outputs": [],
   "source": [
    "print(train_new_dict.keys())\n",
    "print(train_saved_dict.keys())\n",
    "print(test_new_dict.keys())\n",
    "print(test_saved_dict.keys())"
   ]
  },
  {
   "cell_type": "code",
   "execution_count": null,
   "id": "fa93ceb8",
   "metadata": {},
   "outputs": [],
   "source": [
    "from src.cnn_multi_pixel.preprocessing.preprocessing_array import create_raw_traces\n",
    "train_new_raw_dict = create_raw_traces(trace_root, train_new_dict)\n",
    "test_new_raw_dict = create_raw_traces(trace_root, test_new_dict)"
   ]
  },
  {
   "cell_type": "code",
   "execution_count": null,
   "id": "13283397",
   "metadata": {},
   "outputs": [],
   "source": [
    "print(train_new_raw_dict[\"digital_5px_fs_p\"][0])\n",
    "print(test_new_raw_dict[\"analog_5px_tt_pm\"][0])"
   ]
  },
  {
   "cell_type": "code",
   "execution_count": null,
   "id": "5c86c828",
   "metadata": {},
   "outputs": [],
   "source": [
    "from src.cnn_multi_pixel.dataset.dataset_raw import create_and_save_raw_datasets\n",
    "train_new_raw_dataset_list = create_and_save_raw_datasets(dataset_raw_root, train_new_raw_dict)\n",
    "test_new_raw_dataset_list = create_and_save_raw_datasets(dataset_raw_root, test_new_raw_dict)"
   ]
  },
  {
   "cell_type": "code",
   "execution_count": null,
   "id": "548faf6b",
   "metadata": {},
   "outputs": [],
   "source": [
    "from src.cnn_multi_pixel.dataset.dataset_raw import load_raw_datasets\n",
    "train_raw_dataset_load_list = load_raw_datasets(dataset_raw_root, list(train_new_dict.keys()))\n",
    "test_raw_dataset_load_list = load_raw_datasets(dataset_raw_root, list(test_new_dict.keys()))"
   ]
  },
  {
   "cell_type": "code",
   "execution_count": null,
   "id": "37204f30",
   "metadata": {},
   "outputs": [],
   "source": [
    "print(train_raw_dataset_load_list[0].get_raw_dict().keys())\n",
    "print(train_new_raw_dataset_list == train_raw_dataset_load_list)"
   ]
  },
  {
   "cell_type": "code",
   "execution_count": null,
   "id": "67ae2e9f",
   "metadata": {},
   "outputs": [],
   "source": [
    "from src.cnn_multi_pixel.dataset.dataset_sampled import create_and_save_sampled_datasets\n",
    "train_new_sam_dataset_list = create_and_save_sampled_datasets(dataset_sampled_root, train_new_raw_dataset_list, train_new_dict)\n",
    "test_new_sam_dataset_list = create_and_save_sampled_datasets(dataset_sampled_root, test_new_raw_dataset_list, test_new_dict)"
   ]
  },
  {
   "cell_type": "code",
   "execution_count": null,
   "id": "7f2f8341",
   "metadata": {},
   "outputs": [],
   "source": [
    "from src.cnn_multi_pixel.dataset.dataset_sampled import load_sampled_dataset\n",
    "train_sam_dataset_load_list = load_sampled_dataset(dataset_sampled_root, list(train_new_dict.keys()))\n",
    "test_sam_dataset_load_list = load_sampled_dataset(dataset_sampled_root, list(test_new_dict.keys()))"
   ]
  }
 ],
 "metadata": {
  "kernelspec": {
   "display_name": "cnn-multi-pixel-py3.12",
   "language": "python",
   "name": "python3"
  },
  "language_info": {
   "codemirror_mode": {
    "name": "ipython",
    "version": 3
   },
   "file_extension": ".py",
   "mimetype": "text/x-python",
   "name": "python",
   "nbconvert_exporter": "python",
   "pygments_lexer": "ipython3",
   "version": "3.12.10"
  }
 },
 "nbformat": 4,
 "nbformat_minor": 5
}
