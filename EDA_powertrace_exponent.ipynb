{
 "cells": [
  {
   "cell_type": "markdown",
   "id": "c5b5fae9",
   "metadata": {},
   "source": [
    "### EDA(Exploratory Data Analysis) of Power Trace files\n",
    "The goal of this notebook is to go through all power trace values and get the average exponent value. This will be used to increase all power values so the CNN would struggle less and unlikely run into vanishing gradient problems."
   ]
  },
  {
   "cell_type": "markdown",
   "id": "bf2af2b8",
   "metadata": {},
   "source": [
    "### Essential imports\n",
    "Rather than using Pandas, I decided to use a simple loop over all files with a line-read function.\n",
    "\n",
    "Will use seaborn for visualization."
   ]
  },
  {
   "cell_type": "code",
   "execution_count": null,
   "id": "e60e4f94",
   "metadata": {},
   "outputs": [],
   "source": [
    "# import pandas as pd\n",
    "import seaborn as sns\n",
    "import numpy as np\n",
    "from collections import defaultdict\n",
    "import os\n",
    "import re"
   ]
  },
  {
   "cell_type": "markdown",
   "id": "b7062f7e",
   "metadata": {},
   "source": [
    "## Helper Functions"
   ]
  },
  {
   "cell_type": "code",
   "execution_count": null,
   "id": "05be0375",
   "metadata": {},
   "outputs": [],
   "source": [
    "''' \n",
    "Function that extracts all exponent values from a SINGLE power trace file\n",
    "Input:\n",
    "    1) filename: string; name of power trace file\n",
    "Returns:\n",
    "    1) avg_exponent: float; average exponent of all power trace values\n",
    "'''\n",
    "def extract_exponents_from_file(filename):\n",
    "    exponents = []\n",
    "    with open(filename, 'r') as f:\n",
    "        for line in f:\n",
    "            parts = line.strip().split()\n",
    "            if len(parts) < 2:\n",
    "                continue  # Skip lines with fewer than 2 columns\n",
    "            value_str = parts[1]\n",
    "            if 'e' not in value_str:\n",
    "                print(f\"Skipping non-scientific value '{value_str}' in {filename}\")\n",
    "                continue\n",
    "            try:\n",
    "                exponent = int(value_str.split('e')[1])\n",
    "                exponents.append(exponent)\n",
    "            except ValueError:\n",
    "                print(f\"Invalid exponent format in '{value_str}' from {filename}\")\n",
    "    avg_exponent = np.sum(exponents) / len(exponents)\n",
    "    return avg_exponent"
   ]
  },
  {
   "cell_type": "markdown",
   "id": "45b65a74",
   "metadata": {},
   "source": [
    "### Data Analysis"
   ]
  },
  {
   "cell_type": "code",
   "execution_count": null,
   "id": "404a9dbf",
   "metadata": {},
   "outputs": [],
   "source": [
    "# Loop through all power trace files, create dictionary of avg exponent values\n",
    "cwd = os.getcwd()\n",
    "root_path = os.path.join(cwd, 'trace_files')\n",
    "exp_results = defaultdict(list)\n",
    "\n",
    "# exp_results: per each dir as key, saves all avg exponent values as list\n",
    "for root, dirs, files in os.walk(root_path):\n",
    "    for dir in dirs:\n",
    "        for file in files:\n",
    "            if file.endswith(\".txt\"):\n",
    "                exp_results[dir].append(extract_exponents_from_file(file))\n",
    "                "
   ]
  },
  {
   "cell_type": "code",
   "execution_count": null,
   "id": "d9675461",
   "metadata": {},
   "outputs": [],
   "source": [
    "# key = dir, val = list of its avg exponent values\n",
    "for k, v in exp_results.items():\n",
    "    "
   ]
  }
 ],
 "metadata": {
  "kernelspec": {
   "display_name": ".venv",
   "language": "python",
   "name": "python3"
  },
  "language_info": {
   "codemirror_mode": {
    "name": "ipython",
    "version": 3
   },
   "file_extension": ".py",
   "mimetype": "text/x-python",
   "name": "python",
   "nbconvert_exporter": "python",
   "pygments_lexer": "ipython3",
   "version": "3.12.10"
  }
 },
 "nbformat": 4,
 "nbformat_minor": 5
}
